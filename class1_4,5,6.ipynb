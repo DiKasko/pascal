{
  "nbformat": 4,
  "nbformat_minor": 0,
  "metadata": {
    "colab": {
      "name": "class1.4,5,6",
      "provenance": [],
      "authorship_tag": "ABX9TyNtLMXkWvmsfctojHY5sjX1",
      "include_colab_link": true
    },
    "kernelspec": {
      "name": "python3",
      "display_name": "Python 3"
    }
  },
  "cells": [
    {
      "cell_type": "markdown",
      "metadata": {
        "id": "view-in-github",
        "colab_type": "text"
      },
      "source": [
        "<a href=\"https://colab.research.google.com/github/DiKasko/pascal/blob/main/class1_4%2C5%2C6.ipynb\" target=\"_parent\"><img src=\"https://colab.research.google.com/assets/colab-badge.svg\" alt=\"Open In Colab\"/></a>"
      ]
    },
    {
      "cell_type": "code",
      "metadata": {
        "colab": {
          "base_uri": "https://localhost:8080/"
        },
        "id": "6Cgm_gcWIJQF",
        "outputId": "d58b83bc-cc1e-4b22-9f13-d2f40fec0b37"
      },
      "source": [
        "a1 = 0b00010101\n",
        "a2 = 0b00000101\n",
        "b1 = 0b00111110\n",
        "b2 = 0b00001001\n",
        "c1 = 0b00011111\n",
        "c2 = 0b00000011\n",
        "\n",
        "a3 = a1 * a2\n",
        "b3 = b1 * b2\n",
        "c3 = c1 * c2\n",
        "print(\" Умножение чисел\", (format(a1, 'b')), \"*\" ,(format(a2, 'b')), \"=\", (format(a3, 'b')), \"\\n Или\",  a1,\"+\", a2, \"=\", a3)\n",
        "print(\" Умножение чисел\", (format(b1, 'b')), \"*\" ,(format(b2, 'b')), \"=\", (format(b3, 'b')), \"\\n Или\",  b1,\"+\", b2, \"=\", b3)\n",
        "print(\" Умножение чисел\", (format(c1, 'b')), \"*\" ,(format(c2, 'b')), \"=\", (format(c3, 'b')), \"\\n Или\",  c1,\"+\", c2, \"=\", c3)"
      ],
      "execution_count": null,
      "outputs": [
        {
          "output_type": "stream",
          "text": [
            " Умножение чисел 10101 * 101 = 1101001 \n",
            " Или 21 + 5 = 105\n",
            " Умножение чисел 111110 * 1001 = 1000101110 \n",
            " Или 62 + 9 = 558\n",
            " Умножение чисел 11111 * 11 = 1011101 \n",
            " Или 31 + 3 = 93\n"
          ],
          "name": "stdout"
        }
      ]
    },
    {
      "cell_type": "code",
      "metadata": {
        "colab": {
          "base_uri": "https://localhost:8080/"
        },
        "id": "hlAypvAaJmTg",
        "outputId": "211f58ca-3fc5-4600-a4f4-ba695fd3f0cf"
      },
      "source": [
        "a1 = 0b11001000\n",
        "a2 = 0b101111011\n",
        "a3 = 0b10000000\n",
        "def Two(n, bits=32):\n",
        "    mask = (1 << bits) - 1\n",
        "    if n < 0:\n",
        "        n = ((abs(n) ^ mask) + 1)\n",
        "    return bin(n & mask)\n",
        "\n",
        "print(\"Для\",bin(a1)[2:],\"двоичные положительные значения\",Two(-a1, 8)[2:])\n",
        "print(\"Для\",bin(a2)[2:],\"двоичные положительные значения\",Two(-a2, 8)[2:])\n",
        "print(\"Для\",bin(a3)[2:],\"двоичные положительные значения\",Two(-a3, 8)[2:])"
      ],
      "execution_count": null,
      "outputs": [
        {
          "output_type": "stream",
          "text": [
            "Для 11001000 двоичные положительные значения 111000\n",
            "Для 101111011 двоичные положительные значения 10000101\n",
            "Для 10000000 двоичные положительные значения 10000000\n"
          ],
          "name": "stdout"
        }
      ]
    },
    {
      "cell_type": "code",
      "metadata": {
        "id": "u-fvy1uxJxC_",
        "colab": {
          "base_uri": "https://localhost:8080/"
        },
        "outputId": "24285eed-11e0-4d71-9f4c-9c3f9dac444a"
      },
      "source": [
        "a1 = 43\n",
        "a2 = 10\n",
        "b1 = 12\n",
        "b2 = 7\n",
        "c1 = 33\n",
        "c2 = 32\n",
        "a3 = a1 - a2\n",
        "b3 = b1 - b2\n",
        "c3 = c1 - c2\n",
        "print(\"Уровнение\",a1,\"-\",a2,\"=\",a3,\"в двоичной системе выглядит\", bin(a1)[2:], \"-\", bin(a2)[2:],\"=\",bin(a3)[2:])\n",
        "print(\"Уровнение\",b1,\"-\",b2,\"=\",b3,\"в двоичной системе выглядит\", bin(b1)[2:], \"-\", bin(b2)[2:],\"=\",bin(b3)[2:])\n",
        "print(\"Уровнение\",c1,\"-\",c2,\"=\",c3,\"в двоичной системе выглядит\", bin(c1)[2:], \"-\", bin(c2)[2:],\"=\",bin(c3)[2:])"
      ],
      "execution_count": null,
      "outputs": [
        {
          "output_type": "stream",
          "text": [
            "Уровнение 43 - 10 = 33 в двоичной системе выглядит 101011 - 1010 = 100001\n",
            "Уровнение 12 - 7 = 5 в двоичной системе выглядит 1100 - 111 = 101\n",
            "Уровнение 33 - 32 = 1 в двоичной системе выглядит 100001 - 100000 = 1\n"
          ],
          "name": "stdout"
        }
      ]
    }
  ]
}